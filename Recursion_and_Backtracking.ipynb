{
  "nbformat": 4,
  "nbformat_minor": 0,
  "metadata": {
    "colab": {
      "name": "Recursion and Backtracking.ipynb",
      "provenance": [],
      "authorship_tag": "ABX9TyOlB9JM46VvRo9MH1R1S0d7"
    },
    "kernelspec": {
      "name": "python3",
      "display_name": "Python 3"
    }
  },
  "cells": [
    {
      "cell_type": "markdown",
      "metadata": {
        "id": "kB7gD9CwdMyo",
        "colab_type": "text"
      },
      "source": [
        "# References"
      ]
    },
    {
      "cell_type": "markdown",
      "metadata": {
        "id": "yDdSjcXQc7m4",
        "colab_type": "text"
      },
      "source": [
        "- [Aditya Verma's Recursion Series](https://www.youtube.com/playlist?list=PL_z_8CaSLPWeT1ffjiImo0sYTcnLzo-wY)\n",
        "- [Udemy Leetcode Backtracking/Recursion series](https://www.udemy.com/course/leetcode-in-python-50-algorithms-coding-interview-questions/learn/lecture/21204022#overview)\n",
        "- [HackerEarth Recursion and Backtracking series](https://www.hackerearth.com/practice/basic-programming/recursion/recursion-and-backtracking/practice-problems/)\n",
        "- [Leetcode Recursion](https://leetcode.com/tag/recursion/)\n",
        "- [Leetcode Backtracking](https://leetcode.com/tag/backtracking/)"
      ]
    }
  ]
}